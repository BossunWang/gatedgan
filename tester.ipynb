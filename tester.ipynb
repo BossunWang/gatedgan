{
 "cells": [
  {
   "cell_type": "code",
   "execution_count": 4690,
   "metadata": {},
   "outputs": [],
   "source": [
    "import torch \n",
    "import glob\n",
    "import random\n",
    "import os\n",
    "from torch.utils.data import DataLoader\n",
    "import torchvision.transforms as transforms\n",
    "import sys"
   ]
  },
  {
   "cell_type": "code",
   "execution_count": 2,
   "metadata": {},
   "outputs": [],
   "source": [
    "import torchvision\n",
    "from torch.utils.data import Dataset\n",
    "from PIL import Image"
   ]
  },
  {
   "cell_type": "code",
   "execution_count": 3,
   "metadata": {},
   "outputs": [],
   "source": [
    "from models import *\n",
    "from data import *"
   ]
  },
  {
   "cell_type": "code",
   "execution_count": 4,
   "metadata": {},
   "outputs": [],
   "source": [
    "epoch = 0\n",
    "n_epochs = 200 #default = 200\n",
    "batchSize = 1\n",
    "dataroot = './testcollection'\n",
    "loadSize = 143\n",
    "fineSize = 128\n",
    "ngf = 64\n",
    "ndf = 64    \n",
    "in_nc = 3 \n",
    "out_nc = 3 \n",
    "niter = 100  \n",
    "niter_decay = 100 \n",
    "lr = 0.0002 \n",
    "beta1 = 0.5 \n",
    "#ntrain = math.huge \n",
    "flip = 1  \n",
    "display_id = 10 \n",
    "display_winsize = 128 \n",
    "display_freq = 25 \n",
    "cuda=False"
   ]
  },
  {
   "cell_type": "code",
   "execution_count": 5,
   "metadata": {},
   "outputs": [],
   "source": [
    "gen = Generator(in_nc,out_nc,4,ngf)"
   ]
  },
  {
   "cell_type": "code",
   "execution_count": 3609,
   "metadata": {},
   "outputs": [
    {
     "data": {
      "text/plain": [
       "IncompatibleKeys(missing_keys=[], unexpected_keys=[])"
      ]
     },
     "execution_count": 3609,
     "metadata": {},
     "output_type": "execute_result"
    }
   ],
   "source": [
    "gen.load_state_dict(torch.load('./netG3.pth',map_location='cpu'))\n"
   ]
  },
  {
   "cell_type": "code",
   "execution_count": 3610,
   "metadata": {},
   "outputs": [
    {
     "data": {
      "text/plain": [
       "Generator(\n",
       "  (encoder): Encoder(\n",
       "    (model): Sequential(\n",
       "      (0): ReflectionPad2d((3, 3, 3, 3))\n",
       "      (1): Conv2d(3, 64, kernel_size=(7, 7), stride=(1, 1))\n",
       "      (2): InstanceNorm2d(64, eps=1e-05, momentum=0.1, affine=False, track_running_stats=False)\n",
       "      (3): ReLU(inplace)\n",
       "      (4): Conv2d(64, 128, kernel_size=(3, 3), stride=(2, 2), padding=(1, 1))\n",
       "      (5): InstanceNorm2d(128, eps=1e-05, momentum=0.1, affine=False, track_running_stats=False)\n",
       "      (6): ReLU(inplace)\n",
       "      (7): Conv2d(128, 256, kernel_size=(3, 3), stride=(2, 2), padding=(1, 1))\n",
       "      (8): InstanceNorm2d(256, eps=1e-05, momentum=0.1, affine=False, track_running_stats=False)\n",
       "      (9): ReLU(inplace)\n",
       "    )\n",
       "  )\n",
       "  (transformer): Transformer(\n",
       "    (t): ModuleList(\n",
       "      (0): ResidualBlock(\n",
       "        (conv_block): Sequential(\n",
       "          (0): ReflectionPad2d((1, 1, 1, 1))\n",
       "          (1): Conv2d(256, 256, kernel_size=(3, 3), stride=(1, 1))\n",
       "          (2): InstanceNorm2d(256, eps=1e-05, momentum=0.1, affine=False, track_running_stats=False)\n",
       "          (3): ReLU(inplace)\n",
       "          (4): ReflectionPad2d((1, 1, 1, 1))\n",
       "          (5): Conv2d(256, 256, kernel_size=(3, 3), stride=(1, 1))\n",
       "          (6): InstanceNorm2d(256, eps=1e-05, momentum=0.1, affine=False, track_running_stats=False)\n",
       "        )\n",
       "      )\n",
       "      (1): ResidualBlock(\n",
       "        (conv_block): Sequential(\n",
       "          (0): ReflectionPad2d((1, 1, 1, 1))\n",
       "          (1): Conv2d(256, 256, kernel_size=(3, 3), stride=(1, 1))\n",
       "          (2): InstanceNorm2d(256, eps=1e-05, momentum=0.1, affine=False, track_running_stats=False)\n",
       "          (3): ReLU(inplace)\n",
       "          (4): ReflectionPad2d((1, 1, 1, 1))\n",
       "          (5): Conv2d(256, 256, kernel_size=(3, 3), stride=(1, 1))\n",
       "          (6): InstanceNorm2d(256, eps=1e-05, momentum=0.1, affine=False, track_running_stats=False)\n",
       "        )\n",
       "      )\n",
       "      (2): ResidualBlock(\n",
       "        (conv_block): Sequential(\n",
       "          (0): ReflectionPad2d((1, 1, 1, 1))\n",
       "          (1): Conv2d(256, 256, kernel_size=(3, 3), stride=(1, 1))\n",
       "          (2): InstanceNorm2d(256, eps=1e-05, momentum=0.1, affine=False, track_running_stats=False)\n",
       "          (3): ReLU(inplace)\n",
       "          (4): ReflectionPad2d((1, 1, 1, 1))\n",
       "          (5): Conv2d(256, 256, kernel_size=(3, 3), stride=(1, 1))\n",
       "          (6): InstanceNorm2d(256, eps=1e-05, momentum=0.1, affine=False, track_running_stats=False)\n",
       "        )\n",
       "      )\n",
       "      (3): ResidualBlock(\n",
       "        (conv_block): Sequential(\n",
       "          (0): ReflectionPad2d((1, 1, 1, 1))\n",
       "          (1): Conv2d(256, 256, kernel_size=(3, 3), stride=(1, 1))\n",
       "          (2): InstanceNorm2d(256, eps=1e-05, momentum=0.1, affine=False, track_running_stats=False)\n",
       "          (3): ReLU(inplace)\n",
       "          (4): ReflectionPad2d((1, 1, 1, 1))\n",
       "          (5): Conv2d(256, 256, kernel_size=(3, 3), stride=(1, 1))\n",
       "          (6): InstanceNorm2d(256, eps=1e-05, momentum=0.1, affine=False, track_running_stats=False)\n",
       "        )\n",
       "      )\n",
       "      (4): Identity()\n",
       "    )\n",
       "  )\n",
       "  (decoder): Decoder(\n",
       "    (model): Sequential(\n",
       "      (0): ResidualBlock(\n",
       "        (conv_block): Sequential(\n",
       "          (0): ReflectionPad2d((1, 1, 1, 1))\n",
       "          (1): Conv2d(256, 256, kernel_size=(3, 3), stride=(1, 1))\n",
       "          (2): InstanceNorm2d(256, eps=1e-05, momentum=0.1, affine=False, track_running_stats=False)\n",
       "          (3): ReLU(inplace)\n",
       "          (4): ReflectionPad2d((1, 1, 1, 1))\n",
       "          (5): Conv2d(256, 256, kernel_size=(3, 3), stride=(1, 1))\n",
       "          (6): InstanceNorm2d(256, eps=1e-05, momentum=0.1, affine=False, track_running_stats=False)\n",
       "        )\n",
       "      )\n",
       "      (1): ResidualBlock(\n",
       "        (conv_block): Sequential(\n",
       "          (0): ReflectionPad2d((1, 1, 1, 1))\n",
       "          (1): Conv2d(256, 256, kernel_size=(3, 3), stride=(1, 1))\n",
       "          (2): InstanceNorm2d(256, eps=1e-05, momentum=0.1, affine=False, track_running_stats=False)\n",
       "          (3): ReLU(inplace)\n",
       "          (4): ReflectionPad2d((1, 1, 1, 1))\n",
       "          (5): Conv2d(256, 256, kernel_size=(3, 3), stride=(1, 1))\n",
       "          (6): InstanceNorm2d(256, eps=1e-05, momentum=0.1, affine=False, track_running_stats=False)\n",
       "        )\n",
       "      )\n",
       "      (2): ResidualBlock(\n",
       "        (conv_block): Sequential(\n",
       "          (0): ReflectionPad2d((1, 1, 1, 1))\n",
       "          (1): Conv2d(256, 256, kernel_size=(3, 3), stride=(1, 1))\n",
       "          (2): InstanceNorm2d(256, eps=1e-05, momentum=0.1, affine=False, track_running_stats=False)\n",
       "          (3): ReLU(inplace)\n",
       "          (4): ReflectionPad2d((1, 1, 1, 1))\n",
       "          (5): Conv2d(256, 256, kernel_size=(3, 3), stride=(1, 1))\n",
       "          (6): InstanceNorm2d(256, eps=1e-05, momentum=0.1, affine=False, track_running_stats=False)\n",
       "        )\n",
       "      )\n",
       "      (3): ResidualBlock(\n",
       "        (conv_block): Sequential(\n",
       "          (0): ReflectionPad2d((1, 1, 1, 1))\n",
       "          (1): Conv2d(256, 256, kernel_size=(3, 3), stride=(1, 1))\n",
       "          (2): InstanceNorm2d(256, eps=1e-05, momentum=0.1, affine=False, track_running_stats=False)\n",
       "          (3): ReLU(inplace)\n",
       "          (4): ReflectionPad2d((1, 1, 1, 1))\n",
       "          (5): Conv2d(256, 256, kernel_size=(3, 3), stride=(1, 1))\n",
       "          (6): InstanceNorm2d(256, eps=1e-05, momentum=0.1, affine=False, track_running_stats=False)\n",
       "        )\n",
       "      )\n",
       "      (4): ResidualBlock(\n",
       "        (conv_block): Sequential(\n",
       "          (0): ReflectionPad2d((1, 1, 1, 1))\n",
       "          (1): Conv2d(256, 256, kernel_size=(3, 3), stride=(1, 1))\n",
       "          (2): InstanceNorm2d(256, eps=1e-05, momentum=0.1, affine=False, track_running_stats=False)\n",
       "          (3): ReLU(inplace)\n",
       "          (4): ReflectionPad2d((1, 1, 1, 1))\n",
       "          (5): Conv2d(256, 256, kernel_size=(3, 3), stride=(1, 1))\n",
       "          (6): InstanceNorm2d(256, eps=1e-05, momentum=0.1, affine=False, track_running_stats=False)\n",
       "        )\n",
       "      )\n",
       "      (5): ResidualBlock(\n",
       "        (conv_block): Sequential(\n",
       "          (0): ReflectionPad2d((1, 1, 1, 1))\n",
       "          (1): Conv2d(256, 256, kernel_size=(3, 3), stride=(1, 1))\n",
       "          (2): InstanceNorm2d(256, eps=1e-05, momentum=0.1, affine=False, track_running_stats=False)\n",
       "          (3): ReLU(inplace)\n",
       "          (4): ReflectionPad2d((1, 1, 1, 1))\n",
       "          (5): Conv2d(256, 256, kernel_size=(3, 3), stride=(1, 1))\n",
       "          (6): InstanceNorm2d(256, eps=1e-05, momentum=0.1, affine=False, track_running_stats=False)\n",
       "        )\n",
       "      )\n",
       "      (6): ResidualBlock(\n",
       "        (conv_block): Sequential(\n",
       "          (0): ReflectionPad2d((1, 1, 1, 1))\n",
       "          (1): Conv2d(256, 256, kernel_size=(3, 3), stride=(1, 1))\n",
       "          (2): InstanceNorm2d(256, eps=1e-05, momentum=0.1, affine=False, track_running_stats=False)\n",
       "          (3): ReLU(inplace)\n",
       "          (4): ReflectionPad2d((1, 1, 1, 1))\n",
       "          (5): Conv2d(256, 256, kernel_size=(3, 3), stride=(1, 1))\n",
       "          (6): InstanceNorm2d(256, eps=1e-05, momentum=0.1, affine=False, track_running_stats=False)\n",
       "        )\n",
       "      )\n",
       "      (7): ResidualBlock(\n",
       "        (conv_block): Sequential(\n",
       "          (0): ReflectionPad2d((1, 1, 1, 1))\n",
       "          (1): Conv2d(256, 256, kernel_size=(3, 3), stride=(1, 1))\n",
       "          (2): InstanceNorm2d(256, eps=1e-05, momentum=0.1, affine=False, track_running_stats=False)\n",
       "          (3): ReLU(inplace)\n",
       "          (4): ReflectionPad2d((1, 1, 1, 1))\n",
       "          (5): Conv2d(256, 256, kernel_size=(3, 3), stride=(1, 1))\n",
       "          (6): InstanceNorm2d(256, eps=1e-05, momentum=0.1, affine=False, track_running_stats=False)\n",
       "        )\n",
       "      )\n",
       "      (8): ResidualBlock(\n",
       "        (conv_block): Sequential(\n",
       "          (0): ReflectionPad2d((1, 1, 1, 1))\n",
       "          (1): Conv2d(256, 256, kernel_size=(3, 3), stride=(1, 1))\n",
       "          (2): InstanceNorm2d(256, eps=1e-05, momentum=0.1, affine=False, track_running_stats=False)\n",
       "          (3): ReLU(inplace)\n",
       "          (4): ReflectionPad2d((1, 1, 1, 1))\n",
       "          (5): Conv2d(256, 256, kernel_size=(3, 3), stride=(1, 1))\n",
       "          (6): InstanceNorm2d(256, eps=1e-05, momentum=0.1, affine=False, track_running_stats=False)\n",
       "        )\n",
       "      )\n",
       "      (9): ConvTranspose2d(256, 128, kernel_size=(3, 3), stride=(2, 2), padding=(1, 1), output_padding=(1, 1))\n",
       "      (10): InstanceNorm2d(128, eps=1e-05, momentum=0.1, affine=False, track_running_stats=False)\n",
       "      (11): ReLU(inplace)\n",
       "      (12): ConvTranspose2d(128, 64, kernel_size=(3, 3), stride=(2, 2), padding=(1, 1), output_padding=(1, 1))\n",
       "      (13): InstanceNorm2d(64, eps=1e-05, momentum=0.1, affine=False, track_running_stats=False)\n",
       "      (14): ReLU(inplace)\n",
       "      (15): ReflectionPad2d((3, 3, 3, 3))\n",
       "      (16): Conv2d(64, 3, kernel_size=(7, 7), stride=(1, 1))\n",
       "      (17): Tanh()\n",
       "    )\n",
       "  )\n",
       ")"
      ]
     },
     "execution_count": 3610,
     "metadata": {},
     "output_type": "execute_result"
    }
   ],
   "source": [
    "gen.eval()"
   ]
  },
  {
   "cell_type": "code",
   "execution_count": 4595,
   "metadata": {},
   "outputs": [],
   "source": [
    "transforms_ = [ transforms.Resize(int(128), Image.BICUBIC), \n",
    "        transforms.RandomCrop(128), \n",
    "        transforms.RandomVerticalFlip(p=0),\n",
    "        transforms.ToTensor(),\n",
    "        transforms.Normalize((0.5,0.5,0.5), (0.5,0.5,0.5)) \n",
    "      ]\n",
    "\n",
    "transform = transforms.Compose(transforms_)"
   ]
  },
  {
   "cell_type": "code",
   "execution_count": 4703,
   "metadata": {},
   "outputs": [],
   "source": [
    "content = transform(Image.open('./IMG_0931.jpeg'))"
   ]
  },
  {
   "cell_type": "code",
   "execution_count": 4704,
   "metadata": {},
   "outputs": [],
   "source": [
    "Tensor = torch.cuda.FloatTensor if cuda else torch.Tensor\n",
    "input_A = Tensor(batchSize, in_nc, fineSize, fineSize)"
   ]
  },
  {
   "cell_type": "code",
   "execution_count": 4705,
   "metadata": {},
   "outputs": [],
   "source": [
    "def tensor2image(tensor):\n",
    "    image = 127.5*(tensor[0].cpu().float().detach().numpy() + 1.0)\n",
    "    if image.shape[0] == 1:\n",
    "        image = np.tile(image, (3,1,1))\n",
    "    return image.astype(np.uint8)\n",
    "\n",
    "# ###### Testing#####"
   ]
  },
  {
   "cell_type": "code",
   "execution_count": 4706,
   "metadata": {},
   "outputs": [],
   "source": [
    "real_A = Variable(input_A.copy_(content))"
   ]
  },
  {
   "cell_type": "code",
   "execution_count": 4742,
   "metadata": {},
   "outputs": [],
   "source": [
    "generated= gen({\n",
    "    'content': real_A,\n",
    "    'style_label': [[.1,.9,.09,.09,0]]\n",
    "})"
   ]
  },
  {
   "cell_type": "code",
   "execution_count": 4743,
   "metadata": {},
   "outputs": [],
   "source": [
    "im=tensor2image(generated.data)"
   ]
  },
  {
   "cell_type": "code",
   "execution_count": 4744,
   "metadata": {},
   "outputs": [],
   "source": [
    "im =im.transpose(2,1,0)"
   ]
  },
  {
   "cell_type": "code",
   "execution_count": 4745,
   "metadata": {},
   "outputs": [],
   "source": [
    "thing=Image.fromarray(im,'RGB')"
   ]
  },
  {
   "cell_type": "code",
   "execution_count": 4746,
   "metadata": {
    "scrolled": true
   },
   "outputs": [
    {
     "data": {
      "image/png": "[encoded data removed]",
      "text/plain": [
       "<PIL.Image.Image image mode=RGB size=256x256 at 0x13C3E2630>"
      ]
     },
     "execution_count": 4746,
     "metadata": {},
     "output_type": "execute_result"
    }
   ],
   "source": [
    "thing.resize([256,256])"
   ]
  },
  {
   "cell_type": "markdown",
   "metadata": {},
   "source": [
    "## %matplotlib inline"
   ]
  },
  {
   "cell_type": "code",
   "execution_count": 3964,
   "metadata": {},
   "outputs": [],
   "source": [
    "thing.show()"
   ]
  },
  {
   "cell_type": "code",
   "execution_count": null,
   "metadata": {},
   "outputs": [],
   "source": [
    "class ImageStyler():\n",
    "    def __init__(self, image_path, generator):\n",
    "        self.image_path = image_path\n",
    "        self.generator = generator\n",
    "        \n",
    "    def \n",
    "        "
   ]
  },
  {
   "cell_type": "code",
   "execution_count": null,
   "metadata": {},
   "outputs": [],
   "source": []
  },
  {
   "cell_type": "code",
   "execution_count": null,
   "metadata": {},
   "outputs": [],
   "source": []
  }
 ],
 "metadata": {
  "kernelspec": {
   "display_name": "Python 3",
   "language": "python",
   "name": "python3"
  },
  "language_info": {
   "codemirror_mode": {
    "name": "ipython",
    "version": 3
   },
   "file_extension": ".py",
   "mimetype": "text/x-python",
   "name": "python",
   "nbconvert_exporter": "python",
   "pygments_lexer": "ipython3",
   "version": "3.7.0"
  }
 },
 "nbformat": 4,
 "nbformat_minor": 2
}
