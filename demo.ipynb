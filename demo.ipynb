{
 "cells": [
  {
   "cell_type": "code",
   "execution_count": 29,
   "metadata": {},
   "outputs": [],
   "source": [
    "import torch \n",
    "from torch.utils.data import DataLoader\n",
    "import torchvision.transforms as transforms\n",
    "import torchvision\n",
    "from torch.utils.data import Dataset\n",
    "from ipywidgets import interact, widgets\n",
    "import matplotlib.pyplot as plt \n",
    "from PIL import Image\n",
    "%matplotlib inline\n"
   ]
  },
  {
   "cell_type": "code",
   "execution_count": 30,
   "metadata": {},
   "outputs": [],
   "source": [
    "from models import *\n",
    "from data import *"
   ]
  },
  {
   "cell_type": "markdown",
   "metadata": {},
   "source": [
    "##### Initialize Generator"
   ]
  },
  {
   "cell_type": "code",
   "execution_count": 31,
   "metadata": {},
   "outputs": [],
   "source": [
    "gen = Generator(3,3,4,64)"
   ]
  },
  {
   "cell_type": "code",
   "execution_count": 32,
   "metadata": {},
   "outputs": [
    {
     "data": {
      "text/plain": [
       "IncompatibleKeys(missing_keys=[], unexpected_keys=[])"
      ]
     },
     "execution_count": 32,
     "metadata": {},
     "output_type": "execute_result"
    }
   ],
   "source": [
    "gen.load_state_dict(torch.load('./netG4.pth', map_location='cpu'))"
   ]
  },
  {
   "cell_type": "markdown",
   "metadata": {},
   "source": [
    "###### Define Image Transforms"
   ]
  },
  {
   "cell_type": "code",
   "execution_count": 33,
   "metadata": {},
   "outputs": [],
   "source": [
    "transforms_ = [ transforms.Resize(int(128), Image.BICUBIC), \n",
    "        transforms.RandomCrop(128), \n",
    "        #transforms.RandomVerticalFlip(p=0),\n",
    "        transforms.ToTensor(),\n",
    "        transforms.Normalize((0.5,0.5,0.5), (0.5,0.5,0.5)) \n",
    "      ]\n",
    "\n",
    "transform = transforms.Compose(transforms_)"
   ]
  },
  {
   "cell_type": "code",
   "execution_count": 34,
   "metadata": {},
   "outputs": [],
   "source": [
    "\n",
    "def tensor2image(tensor):\n",
    "    image = 127.5*(tensor[0].cpu().float().detach().numpy() + 1.0)\n",
    "    return image.astype(np.uint8)\n",
    "\n"
   ]
  },
  {
   "cell_type": "markdown",
   "metadata": {},
   "source": [
    "##### Image must be .JPG or .jpeg"
   ]
  },
  {
   "cell_type": "code",
   "execution_count": 35,
   "metadata": {},
   "outputs": [],
   "source": [
    "path = 'Screen Shot 2019-05-09 at 11.31.36 AM.jpg' #set image path"
   ]
  },
  {
   "cell_type": "code",
   "execution_count": 36,
   "metadata": {
    "scrolled": false
   },
   "outputs": [
    {
     "data": {
      "application/vnd.jupyter.widget-view+json": {
       "model_id": "c9678af439774d34a495ef4e91120b7e",
       "version_major": 2,
       "version_minor": 0
      },
      "text/plain": [
       "interactive(children=(FloatSlider(value=0.0, continuous_update=False, description='vango', max=1.0, step=0.01)…"
      ]
     },
     "metadata": {},
     "output_type": "display_data"
    }
   ],
   "source": [
    "@interact(\n",
    "          vango=widgets.FloatSlider(min=0,max=1,step=.01,value=0,continuous_update=False)\n",
    "          ,ukyo=widgets.FloatSlider(min=0,max=1,step=.01,value=0,continuous_update=False)\n",
    "          ,monet=widgets.FloatSlider(min=0,max=1,step=.01,value=0,continuous_update=False)\n",
    "          ,cezan=widgets.FloatSlider(min=0,max=1,step=.01,value=0,continuous_update=False)\n",
    "          ,ident=widgets.FloatSlider(min=.01,max=1,step=.01,value=1,continuous_update=False))\n",
    "def generate_image(vango,ukyo,monet,cezan,ident, path= path, flip90=False):\n",
    "    generator = gen\n",
    "    content = transform(Image.open(path))\n",
    "    Tensor = torch.Tensor\n",
    "    input_A = Tensor(1, 3, 128, 128)\n",
    "    real_A = input_A.copy_(content)\n",
    "    \n",
    "    generated = gen({\n",
    "        'content': real_A,\n",
    "        'style_label': [[cezan,monet,ukyo,vango,ident]]   \n",
    "    })\n",
    "    im=tensor2image(generated.data)\n",
    "    if flip90:\n",
    "        im=im.transpose(2,1,0)\n",
    "    else:\n",
    "        im=im.transpose(1,2,0)\n",
    "    fig = plt.figure(figsize=(6,6))\n",
    "    ax = fig.add_subplot(111)  \n",
    "    ax.imshow(im)\n",
    "\n"
   ]
  },
  {
   "cell_type": "code",
   "execution_count": null,
   "metadata": {},
   "outputs": [],
   "source": []
  },
  {
   "cell_type": "code",
   "execution_count": null,
   "metadata": {},
   "outputs": [],
   "source": []
  }
 ],
 "metadata": {
  "kernelspec": {
   "display_name": "Python 3",
   "language": "python",
   "name": "python3"
  },
  "language_info": {
   "codemirror_mode": {
    "name": "ipython",
    "version": 3
   },
   "file_extension": ".py",
   "mimetype": "text/x-python",
   "name": "python",
   "nbconvert_exporter": "python",
   "pygments_lexer": "ipython3",
   "version": "3.7.0"
  }
 },
 "nbformat": 4,
 "nbformat_minor": 2
}
